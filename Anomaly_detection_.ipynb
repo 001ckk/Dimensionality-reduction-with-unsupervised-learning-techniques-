{
  "nbformat": 4,
  "nbformat_minor": 0,
  "metadata": {
    "colab": {
      "name": "Anomaly detection.",
      "provenance": [],
      "collapsed_sections": [],
      "authorship_tag": "ABX9TyOzMT3NYJj3kG6tBiFOAn7J",
      "include_colab_link": true
    },
    "kernelspec": {
      "name": "python3",
      "display_name": "Python 3"
    },
    "language_info": {
      "name": "python"
    }
  },
  "cells": [
    {
      "cell_type": "markdown",
      "metadata": {
        "id": "view-in-github",
        "colab_type": "text"
      },
      "source": [
        "<a href=\"https://colab.research.google.com/github/001ckk/Unsupervised-Learning-with-R/blob/main/Anomaly_detection_.ipynb\" target=\"_parent\"><img src=\"https://colab.research.google.com/assets/colab-badge.svg\" alt=\"Open In Colab\"/></a>"
      ]
    },
    {
      "cell_type": "markdown",
      "source": [
        "**Data Analysis Objectives**\n",
        "\n",
        "Perform anomaly detection analysis on sales data and report any inconsistencies.\n",
        "\n",
        "**Understanding context**\n",
        "\n",
        "Carrefour Kenya seeks to undertake a project that will inform the marketing department on the most relevant marketing strategies that will result in the highest no. of sales (total price including tax). Anomaly detection analysis on sales data would be helpful in identifying if there is occurrence of any fraudulent transactions and when they occured to perform further investigation.\n",
        "\n",
        "**Experimental Design**\n",
        "\n",
        "*   Problem definition\n",
        "*   Data Loading\n",
        "*   Exploratory data analysis\n",
        "*   Implementation of the solution\n",
        "*   Summary of findings\n",
        "\n",
        "\n",
        "\n",
        "\n",
        "\n",
        "\n"
      ],
      "metadata": {
        "id": "i4LhAWztG6kj"
      }
    },
    {
      "cell_type": "code",
      "execution_count": null,
      "metadata": {
        "colab": {
          "base_uri": "https://localhost:8080/"
        },
        "id": "QbLaKdGnGZMZ",
        "outputId": "584f2ede-4fcd-4e2c-9674-ea7e2dccc955"
      },
      "outputs": [
        {
          "output_type": "stream",
          "name": "stdout",
          "text": [
            "The rpy2.ipython extension is already loaded. To reload it, use:\n",
            "  %reload_ext rpy2.ipython\n"
          ]
        }
      ],
      "source": [
        "# Extending to R\n",
        "%load_ext rpy2.ipython"
      ]
    },
    {
      "cell_type": "code",
      "source": [
        "# Loading the data and checking the first 6 rows \n",
        "%%R\n",
        "sales_forcast = read.csv('Supermarket_Sales_Forecasting - Sales.csv',stringsAsFactors = FALSE, header = TRUE)\n",
        "head(sales_forcast)"
      ],
      "metadata": {
        "colab": {
          "base_uri": "https://localhost:8080/"
        },
        "id": "78uotX1LNGhV",
        "outputId": "54f60e6e-d4ee-40e4-9bd6-61a1625d631d"
      },
      "execution_count": null,
      "outputs": [
        {
          "output_type": "stream",
          "name": "stdout",
          "text": [
            "       Date    Sales\n",
            "1  1/5/2019 548.9715\n",
            "2  3/8/2019  80.2200\n",
            "3  3/3/2019 340.5255\n",
            "4 1/27/2019 489.0480\n",
            "5  2/8/2019 634.3785\n",
            "6 3/25/2019 627.6165\n"
          ]
        }
      ]
    },
    {
      "cell_type": "code",
      "source": [
        "# Loading the data and checking the last 6 rows \n",
        "%%R\n",
        "tail(sales_forcast)"
      ],
      "metadata": {
        "colab": {
          "base_uri": "https://localhost:8080/"
        },
        "id": "FtCEhq7LJQ0T",
        "outputId": "2d13bcba-1e57-4e2f-fc5f-7de642350026"
      },
      "execution_count": null,
      "outputs": [
        {
          "output_type": "stream",
          "name": "stdout",
          "text": [
            "          Date     Sales\n",
            "995  2/18/2019   63.9975\n",
            "996  1/29/2019   42.3675\n",
            "997   3/2/2019 1022.4900\n",
            "998   2/9/2019   33.4320\n",
            "999  2/22/2019   69.1110\n",
            "1000 2/18/2019  649.2990\n"
          ]
        }
      ]
    },
    {
      "cell_type": "code",
      "source": [
        "%%R\n",
        "# Changing column names to lower case for easy access. \n",
        "colnames(sales_forcast) = tolower(colnames(sales_forcast))\n"
      ],
      "metadata": {
        "colab": {
          "base_uri": "https://localhost:8080/"
        },
        "id": "jat0f4-2Q51r",
        "outputId": "c2d09e53-66f8-4c91-f9f2-dcf856575d5a"
      },
      "execution_count": null,
      "outputs": [
        {
          "output_type": "stream",
          "name": "stdout",
          "text": [
            "       date    sales\n",
            "1  1/5/2019 548.9715\n",
            "2  3/8/2019  80.2200\n",
            "3  3/3/2019 340.5255\n",
            "4 1/27/2019 489.0480\n",
            "5  2/8/2019 634.3785\n",
            "6 3/25/2019 627.6165\n"
          ]
        }
      ]
    },
    {
      "cell_type": "code",
      "source": [
        "%%R\n",
        "# A mathematical summary of the sales column.\n",
        "summary(sales_forcast$sales)"
      ],
      "metadata": {
        "colab": {
          "base_uri": "https://localhost:8080/"
        },
        "id": "F33kdOlsQHE1",
        "outputId": "5aadfee0-3cc4-4f8f-a5d0-6f3018ccff85"
      },
      "execution_count": null,
      "outputs": [
        {
          "output_type": "stream",
          "name": "stdout",
          "text": [
            "   Min. 1st Qu.  Median    Mean 3rd Qu.    Max. \n",
            "  10.68  124.42  253.85  322.97  471.35 1042.65 \n"
          ]
        }
      ]
    },
    {
      "cell_type": "code",
      "source": [
        "%%R\n",
        "# Installing and loading packages \n",
        "install.packages('lubridate')\n",
        "library(lubridate)\n",
        "install.packages('tidyverse')\n",
        "library(tidyverse)\n",
        "install.packages('tibbletime')\n",
        "library(tibbletime)\n",
        "install.packages('anomalize')\n",
        "library(anomalize)"
      ],
      "metadata": {
        "id": "-knI4Q4RRPlz"
      },
      "execution_count": null,
      "outputs": []
    },
    {
      "cell_type": "code",
      "source": [
        "%%R\n",
        "# Total and average sales made per day\n",
        "sales <- sales_forcast %>% group_by(date) %>% summarise_all(list(sum = sum, average = mean))\n",
        "head(sales)"
      ],
      "metadata": {
        "colab": {
          "base_uri": "https://localhost:8080/"
        },
        "id": "5jJ4_UrEWdjo",
        "outputId": "f51c3943-d300-4794-ddea-b7d5e3ffdab7"
      },
      "execution_count": null,
      "outputs": [
        {
          "output_type": "stream",
          "name": "stdout",
          "text": [
            "# A tibble: 6 × 3\n",
            "  date        sum average\n",
            "  <chr>     <dbl>   <dbl>\n",
            "1 1/1/2019  4745.    395.\n",
            "2 1/10/2019 3561.    396.\n",
            "3 1/11/2019 2115.    264.\n",
            "4 1/12/2019 5185.    471.\n",
            "5 1/13/2019 2451.    245.\n",
            "6 1/14/2019 3967.    305.\n"
          ]
        }
      ]
    },
    {
      "cell_type": "code",
      "source": [
        "%%R\n",
        "# Convert date column into date object\n",
        "sales$date <- as_date(mdy(sales$date))\n",
        "head(sales)"
      ],
      "metadata": {
        "colab": {
          "base_uri": "https://localhost:8080/"
        },
        "id": "VoAtpwCra7jI",
        "outputId": "7f3463dd-a6b1-454e-c9f9-3d37bb9f2979"
      },
      "execution_count": null,
      "outputs": [
        {
          "output_type": "stream",
          "name": "stdout",
          "text": [
            "# A tibble: 6 × 3\n",
            "  date         sum average\n",
            "  <date>     <dbl>   <dbl>\n",
            "1 2019-01-01 4745.    395.\n",
            "2 2019-01-10 3561.    396.\n",
            "3 2019-01-11 2115.    264.\n",
            "4 2019-01-12 5185.    471.\n",
            "5 2019-01-13 2451.    245.\n",
            "6 2019-01-14 3967.    305.\n"
          ]
        }
      ]
    },
    {
      "cell_type": "code",
      "source": [
        "%%R\n",
        "# Anomaly detection using total sales per day\n",
        "sales %>% as_tbl_time(date) %>% time_decompose(sum) %>% anomalize(remainder) %>% time_recompose()%>%plot_anomalies(time_recomposed = TRUE, ncol = 3, alpha_dots = 0.5);\n",
        "# There are no anomalies in the data."
      ],
      "metadata": {
        "colab": {
          "base_uri": "https://localhost:8080/",
          "height": 671
        },
        "id": "NmpDaccrXrRr",
        "outputId": "419c111c-e67a-4e6d-d960-0e36493b35c1"
      },
      "execution_count": null,
      "outputs": [
        {
          "output_type": "stream",
          "name": "stderr",
          "text": [
            "WARNING:rpy2.rinterface_lib.callbacks:R[write to console]: Note: Index not ordered. tibbletime assumes index is in ascending order. Results may not be as desired.\n",
            "\n",
            "WARNING:rpy2.rinterface_lib.callbacks:R[write to console]: frequency = 7 days\n",
            "\n",
            "WARNING:rpy2.rinterface_lib.callbacks:R[write to console]: Note: Index not ordered. tibbletime assumes index is in ascending order. Results may not be as desired.\n",
            "\n",
            "WARNING:rpy2.rinterface_lib.callbacks:R[write to console]: Note: Index not ordered. tibbletime assumes index is in ascending order. Results may not be as desired.\n",
            "\n",
            "WARNING:rpy2.rinterface_lib.callbacks:R[write to console]: trend = 30 days\n",
            "\n"
          ]
        },
        {
          "output_type": "display_data",
          "data": {
            "image/png": "[encoded data removed]"
          },
          "metadata": {}
        }
      ]
    },
    {
      "cell_type": "code",
      "source": [
        "%%R\n",
        "# Anomaly detection using average sales per day\n",
        "sales %>% as_tbl_time(date) %>% time_decompose(average) %>% anomalize(remainder) %>% time_recompose()%>%plot_anomalies(time_recomposed = TRUE, ncol = 3, alpha_dots = 0.5);\n",
        "# There are no anomalies in the data "
      ],
      "metadata": {
        "colab": {
          "base_uri": "https://localhost:8080/",
          "height": 671
        },
        "id": "6UC6rgk7Y2P6",
        "outputId": "87a5eb59-3e9d-4fe5-edd9-393243c43b83"
      },
      "execution_count": null,
      "outputs": [
        {
          "output_type": "stream",
          "name": "stderr",
          "text": [
            "WARNING:rpy2.rinterface_lib.callbacks:R[write to console]: Note: Index not ordered. tibbletime assumes index is in ascending order. Results may not be as desired.\n",
            "\n",
            "WARNING:rpy2.rinterface_lib.callbacks:R[write to console]: frequency = 7 days\n",
            "\n",
            "WARNING:rpy2.rinterface_lib.callbacks:R[write to console]: Note: Index not ordered. tibbletime assumes index is in ascending order. Results may not be as desired.\n",
            "\n",
            "WARNING:rpy2.rinterface_lib.callbacks:R[write to console]: Note: Index not ordered. tibbletime assumes index is in ascending order. Results may not be as desired.\n",
            "\n",
            "WARNING:rpy2.rinterface_lib.callbacks:R[write to console]: trend = 30 days\n",
            "\n"
          ]
        },
        {
          "output_type": "display_data",
          "data": {
            "image/png": "[encoded data removed]"
          },
          "metadata": {}
        }
      ]
    }
  ]
}