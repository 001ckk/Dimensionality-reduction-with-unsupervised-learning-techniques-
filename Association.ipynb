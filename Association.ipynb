{
  "nbformat": 4,
  "nbformat_minor": 0,
  "metadata": {
    "colab": {
      "name": "Association",
      "provenance": [],
      "authorship_tag": "ABX9TyPjOkDZ3K6LAo8BY4p17OyX",
      "include_colab_link": true
    },
    "kernelspec": {
      "name": "python3",
      "display_name": "Python 3"
    },
    "language_info": {
      "name": "python"
    }
  },
  "cells": [
    {
      "cell_type": "markdown",
      "metadata": {
        "id": "view-in-github",
        "colab_type": "text"
      },
      "source": [
        "<a href=\"https://colab.research.google.com/github/001ckk/Unsupervised-Learning-with-R/blob/main/Association.ipynb\" target=\"_parent\"><img src=\"https://colab.research.google.com/assets/colab-badge.svg\" alt=\"Open In Colab\"/></a>"
      ]
    },
    {
      "cell_type": "markdown",
      "source": [
        "**Association Rules**\n",
        "\n",
        "This section you are to create association rules that will allow you to identify relationships between variables in the dataset. You are provided with a separate dataset that comprises groups of items that will be associated with others. Just like in the other sections, you will also be required to provide insights for your analysis.\n",
        "\n",
        "\n",
        "**Data Analysis Objectives**\n",
        "\n",
        "Perform associative analysis on items sales data to identify relationships between items bought.\n",
        "\n",
        "\n",
        "**Understanding context**\n",
        "\n",
        "Carrefour Kenya seeks to undertake a project that will inform the marketing department on the most relevant marketing strategies that will result in the highest no. of sales (total price including tax).Associative analysis on sales data would be helpful in identifying customer purchase trends and behaviour.\n",
        "\n",
        "\n",
        "**Experimental Design**\n",
        "\n",
        "Problem definition\n",
        "Data Loading\n",
        "Exploratory data analysis\n",
        "Implementation of the solution\n",
        "Summary of findings"
      ],
      "metadata": {
        "id": "CJLbt0a2J08j"
      }
    },
    {
      "cell_type": "code",
      "source": [
        "%load_ext rpy2.ipython"
      ],
      "metadata": {
        "id": "7INCcN0VJxq7"
      },
      "execution_count": 1,
      "outputs": []
    },
    {
      "cell_type": "code",
      "source": [
        "%%R\n",
        "#Install necessary packages\n",
        "install.packages('arules')\n",
        "library(arules)\n",
        "install.packages('arulesViz')\n",
        "library(arulesViz)\n",
        "install.packages(\"dplyr\")\n",
        "library(dplyr)"
      ],
      "metadata": {
        "id": "kqUp0RS5KGta"
      },
      "execution_count": null,
      "outputs": []
    },
    {
      "cell_type": "code",
      "source": [
        "%%R\n",
        "# Loading the data.\n",
        "sales <- read.transactions('Supermarket_Sales_Dataset II.csv', sep = ',', header = TRUE)\n",
        "sales\n",
        "# There are 119 unique items."
      ],
      "metadata": {
        "colab": {
          "base_uri": "https://localhost:8080/"
        },
        "id": "r8RAVfRAKVlU",
        "outputId": "fcfba094-8087-470a-906f-b37702fca7a3"
      },
      "execution_count": 8,
      "outputs": [
        {
          "output_type": "stream",
          "name": "stdout",
          "text": [
            "transactions in sparse format with\n",
            " 7500 transactions (rows) and\n",
            " 119 items (columns)\n"
          ]
        }
      ]
    },
    {
      "cell_type": "code",
      "source": [
        "%%R\n",
        "# a statistical summary of the data \n",
        "summary(sales)\n",
        "# this shows the frequency of the items bought."
      ],
      "metadata": {
        "colab": {
          "base_uri": "https://localhost:8080/"
        },
        "id": "KO-hLJIe7ssw",
        "outputId": "38159c4c-4133-48f8-ef6e-5ffee6846dd8"
      },
      "execution_count": 10,
      "outputs": [
        {
          "output_type": "stream",
          "name": "stdout",
          "text": [
            "transactions as itemMatrix in sparse format with\n",
            " 7500 rows (elements/itemsets/transactions) and\n",
            " 119 columns (items) and a density of 0.03287171 \n",
            "\n",
            "most frequent items:\n",
            "mineral water          eggs     spaghetti  french fries     chocolate \n",
            "         1787          1348          1306          1282          1229 \n",
            "      (Other) \n",
            "        22386 \n",
            "\n",
            "element (itemset/transaction) length distribution:\n",
            "sizes\n",
            "   1    2    3    4    5    6    7    8    9   10   11   12   13   14   15   16 \n",
            "1754 1358 1044  816  667  493  391  324  259  139  102   67   40   22   17    4 \n",
            "  18   19 \n",
            "   1    2 \n",
            "\n",
            "   Min. 1st Qu.  Median    Mean 3rd Qu.    Max. \n",
            "  1.000   2.000   3.000   3.912   5.000  19.000 \n",
            "\n",
            "includes extended item information - examples:\n",
            "             labels\n",
            "1           almonds\n",
            "2 antioxydant juice\n",
            "3         asparagus\n"
          ]
        }
      ]
    },
    {
      "cell_type": "code",
      "source": [
        "%%R\n",
        "support <- sort(itemFrequency(sales) * 100)\n",
        "# % of items below 0.1\n",
        "print(length(support[support < 0.1])/ 119 * 100)\n",
        "# % of items below 0.2\n",
        "print(length(support[support < 0.2])/ 119 * 100)"
      ],
      "metadata": {
        "colab": {
          "base_uri": "https://localhost:8080/"
        },
        "id": "YhsdvCw28vo7",
        "outputId": "f0585085-602e-4b07-98ba-86a891efb5fd"
      },
      "execution_count": 19,
      "outputs": [
        {
          "output_type": "stream",
          "name": "stdout",
          "text": [
            "[1] 2.521008\n",
            "[1] 3.361345\n"
          ]
        }
      ]
    },
    {
      "cell_type": "code",
      "source": [
        "%%R\n",
        "# A model based on association rules 1\n",
        "# Support = 0.002 and Confidence = 0.6\n",
        "r1 <- apriori(sales, parameter = list(supp = 0.002, conf = 0.6, maxlen=10))"
      ],
      "metadata": {
        "colab": {
          "base_uri": "https://localhost:8080/"
        },
        "id": "AsgtyVyDChJB",
        "outputId": "8bbf7596-7fd8-4c47-8c9c-7ab73c5a6652"
      },
      "execution_count": 42,
      "outputs": [
        {
          "output_type": "stream",
          "name": "stdout",
          "text": [
            "Apriori\n",
            "\n",
            "Parameter specification:\n",
            " confidence minval smax arem  aval originalSupport maxtime support minlen\n",
            "        0.6    0.1    1 none FALSE            TRUE       5   0.002      1\n",
            " maxlen target  ext\n",
            "     10  rules TRUE\n",
            "\n",
            "Algorithmic control:\n",
            " filter tree heap memopt load sort verbose\n",
            "    0.1 TRUE TRUE  FALSE TRUE    2    TRUE\n",
            "\n",
            "Absolute minimum support count: 15 \n",
            "\n",
            "set item appearances ...[0 item(s)] done [0.00s].\n",
            "set transactions ...[119 item(s), 7500 transaction(s)] done [0.01s].\n",
            "sorting and recoding items ... [115 item(s)] done [0.00s].\n",
            "creating transaction tree ... done [0.00s].\n",
            "checking subsets of size 1 2 3 4 5 done [0.01s].\n",
            "writing ... [57 rule(s)] done [0.00s].\n",
            "creating S4 object  ... done [0.00s].\n"
          ]
        }
      ]
    },
    {
      "cell_type": "code",
      "source": [
        "%%R\n",
        "# Summary of rule1\n",
        "summary(r1)\n",
        "\n",
        "# support 0.002\n",
        "# support 0.6\n",
        "# 57 rules were generated "
      ],
      "metadata": {
        "colab": {
          "base_uri": "https://localhost:8080/"
        },
        "id": "mQqCO6xDEb55",
        "outputId": "3c9899eb-cddb-433d-bc6f-8c3447eb1c9c"
      },
      "execution_count": 43,
      "outputs": [
        {
          "output_type": "stream",
          "name": "stdout",
          "text": [
            "set of 57 rules\n",
            "\n",
            "rule length distribution (lhs + rhs):sizes\n",
            " 3  4  5 \n",
            "22 32  3 \n",
            "\n",
            "   Min. 1st Qu.  Median    Mean 3rd Qu.    Max. \n",
            "  3.000   3.000   4.000   3.667   4.000   5.000 \n",
            "\n",
            "summary of quality measures:\n",
            "    support           confidence        coverage             lift       \n",
            " Min.   :0.002000   Min.   :0.6000   Min.   :0.002533   Min.   : 2.518  \n",
            " 1st Qu.:0.002133   1st Qu.:0.6122   1st Qu.:0.003200   1st Qu.: 2.623  \n",
            " Median :0.002267   Median :0.6333   Median :0.003467   Median : 2.744  \n",
            " Mean   :0.002538   Mean   :0.6588   Mean   :0.003897   Mean   : 3.301  \n",
            " 3rd Qu.:0.002800   3rd Qu.:0.6818   3rd Qu.:0.004133   3rd Qu.: 3.446  \n",
            " Max.   :0.005067   Max.   :0.9500   Max.   :0.008000   Max.   :11.975  \n",
            "     count      \n",
            " Min.   :15.00  \n",
            " 1st Qu.:16.00  \n",
            " Median :17.00  \n",
            " Mean   :19.04  \n",
            " 3rd Qu.:21.00  \n",
            " Max.   :38.00  \n",
            "\n",
            "mining info:\n",
            "  data ntransactions support confidence\n",
            " sales          7500   0.002        0.6\n",
            "                                                                           call\n",
            " apriori(data = sales, parameter = list(supp = 0.002, conf = 0.6, maxlen = 10))\n"
          ]
        }
      ]
    },
    {
      "cell_type": "code",
      "source": [
        "%%R\n",
        "# Sorting rule1 based on confidence\n",
        "inspect(sort(r1, by=\"confidence\", decreasing = T)[1:10])"
      ],
      "metadata": {
        "colab": {
          "base_uri": "https://localhost:8080/"
        },
        "id": "8yTWYkQnE5O4",
        "outputId": "ed4947f7-5096-4a27-f1da-16997214fe13"
      },
      "execution_count": 44,
      "outputs": [
        {
          "output_type": "stream",
          "name": "stdout",
          "text": [
            "     lhs                        rhs                 support confidence    coverage      lift count\n",
            "[1]  {mushroom cream sauce,                                                                       \n",
            "      pasta}                 => {escalope}      0.002533333  0.9500000 0.002666667 11.974790    19\n",
            "[2]  {frozen vegetables,                                                                          \n",
            "      olive oil,                                                                                  \n",
            "      tomatoes}              => {spaghetti}     0.002133333  0.8421053 0.002533333  4.835980    16\n",
            "[3]  {pancakes,                                                                                   \n",
            "      soup,                                                                                       \n",
            "      spaghetti}             => {mineral water} 0.002266667  0.7727273 0.002933333  3.243119    17\n",
            "[4]  {frozen vegetables,                                                                          \n",
            "      milk,                                                                                       \n",
            "      soup}                  => {mineral water} 0.003066667  0.7666667 0.004000000  3.217683    23\n",
            "[5]  {frozen vegetables,                                                                          \n",
            "      milk,                                                                                       \n",
            "      turkey}                => {mineral water} 0.002000000  0.7500000 0.002666667  3.147734    15\n",
            "[6]  {frozen vegetables,                                                                          \n",
            "      ground beef,                                                                                \n",
            "      shrimp}                => {spaghetti}     0.002400000  0.7500000 0.003200000  4.307044    18\n",
            "[7]  {chocolate,                                                                                  \n",
            "      frozen vegetables,                                                                          \n",
            "      ground beef,                                                                                \n",
            "      milk}                  => {mineral water} 0.002000000  0.7500000 0.002666667  3.147734    15\n",
            "[8]  {red wine,                                                                                   \n",
            "      turkey}                => {mineral water} 0.002133333  0.7272727 0.002933333  3.052348    16\n",
            "[9]  {cooking oil,                                                                                \n",
            "      pancakes,                                                                                   \n",
            "      spaghetti}             => {mineral water} 0.002133333  0.7272727 0.002933333  3.052348    16\n",
            "[10] {nonfat milk,                                                                                \n",
            "      spaghetti}             => {mineral water} 0.002400000  0.7200000 0.003333333  3.021824    18\n"
          ]
        }
      ]
    },
    {
      "cell_type": "code",
      "source": [
        "%%R\n",
        "# Support = 0.001 and Confidence = 0.8\n",
        "r2 <- apriori(sales, parameter = list(supp = 0.001, conf = 0.8, maxlen=10))"
      ],
      "metadata": {
        "colab": {
          "base_uri": "https://localhost:8080/"
        },
        "id": "X5GBsJOVDdTA",
        "outputId": "97d70876-fe44-4e8d-ee83-cbca42ac7b8a"
      },
      "execution_count": 45,
      "outputs": [
        {
          "output_type": "stream",
          "name": "stdout",
          "text": [
            "Apriori\n",
            "\n",
            "Parameter specification:\n",
            " confidence minval smax arem  aval originalSupport maxtime support minlen\n",
            "        0.8    0.1    1 none FALSE            TRUE       5   0.001      1\n",
            " maxlen target  ext\n",
            "     10  rules TRUE\n",
            "\n",
            "Algorithmic control:\n",
            " filter tree heap memopt load sort verbose\n",
            "    0.1 TRUE TRUE  FALSE TRUE    2    TRUE\n",
            "\n",
            "Absolute minimum support count: 7 \n",
            "\n",
            "set item appearances ...[0 item(s)] done [0.00s].\n",
            "set transactions ...[119 item(s), 7500 transaction(s)] done [0.01s].\n",
            "sorting and recoding items ... [116 item(s)] done [0.00s].\n",
            "creating transaction tree ... done [0.00s].\n",
            "checking subsets of size 1 2 3 4 5 6 done [0.02s].\n",
            "writing ... [73 rule(s)] done [0.00s].\n",
            "creating S4 object  ... done [0.00s].\n"
          ]
        }
      ]
    },
    {
      "cell_type": "code",
      "source": [
        "%%R\n",
        "# Summary of rule2\n",
        "summary(r2)\n",
        "\n",
        "# support 0.001\n",
        "# support 0.8\n",
        "# 73 rules were generated "
      ],
      "metadata": {
        "colab": {
          "base_uri": "https://localhost:8080/"
        },
        "id": "tYjJ7aD4D4Mp",
        "outputId": "e1d045e7-98ed-4da7-b009-316d6b24190a"
      },
      "execution_count": 46,
      "outputs": [
        {
          "output_type": "stream",
          "name": "stdout",
          "text": [
            "set of 73 rules\n",
            "\n",
            "rule length distribution (lhs + rhs):sizes\n",
            " 3  4  5  6 \n",
            "14 42 16  1 \n",
            "\n",
            "   Min. 1st Qu.  Median    Mean 3rd Qu.    Max. \n",
            "  3.000   4.000   4.000   4.055   4.000   6.000 \n",
            "\n",
            "summary of quality measures:\n",
            "    support           confidence        coverage             lift       \n",
            " Min.   :0.001067   Min.   :0.8000   Min.   :0.001067   Min.   : 3.358  \n",
            " 1st Qu.:0.001067   1st Qu.:0.8000   1st Qu.:0.001333   1st Qu.: 3.434  \n",
            " Median :0.001200   Median :0.8333   Median :0.001333   Median : 3.815  \n",
            " Mean   :0.001258   Mean   :0.8498   Mean   :0.001483   Mean   : 4.839  \n",
            " 3rd Qu.:0.001333   3rd Qu.:0.8889   3rd Qu.:0.001600   3rd Qu.: 4.882  \n",
            " Max.   :0.002533   Max.   :1.0000   Max.   :0.002667   Max.   :12.744  \n",
            "     count       \n",
            " Min.   : 8.000  \n",
            " 1st Qu.: 8.000  \n",
            " Median : 9.000  \n",
            " Mean   : 9.438  \n",
            " 3rd Qu.:10.000  \n",
            " Max.   :19.000  \n",
            "\n",
            "mining info:\n",
            "  data ntransactions support confidence\n",
            " sales          7500   0.001        0.8\n",
            "                                                                           call\n",
            " apriori(data = sales, parameter = list(supp = 0.001, conf = 0.8, maxlen = 10))\n"
          ]
        }
      ]
    },
    {
      "cell_type": "code",
      "source": [
        "%%R\n",
        "# Sort rules based on confidence\n",
        "inspect(sort(r2, by='confidence', decreasing = T)[1:10])"
      ],
      "metadata": {
        "colab": {
          "base_uri": "https://localhost:8080/"
        },
        "id": "Wvq-JqDrEvER",
        "outputId": "b5637623-02f0-4089-b0f6-1a1aad1feacc"
      },
      "execution_count": 47,
      "outputs": [
        {
          "output_type": "stream",
          "name": "stdout",
          "text": [
            "     lhs                        rhs                 support confidence    coverage      lift count\n",
            "[1]  {french fries,                                                                               \n",
            "      mushroom cream sauce,                                                                       \n",
            "      pasta}                 => {escalope}      0.001066667  1.0000000 0.001066667 12.605042     8\n",
            "[2]  {ground beef,                                                                                \n",
            "      light cream,                                                                                \n",
            "      olive oil}             => {mineral water} 0.001200000  1.0000000 0.001200000  4.196978     9\n",
            "[3]  {cake,                                                                                       \n",
            "      meatballs,                                                                                  \n",
            "      mineral water}         => {milk}          0.001066667  1.0000000 0.001066667  7.716049     8\n",
            "[4]  {cake,                                                                                       \n",
            "      olive oil,                                                                                  \n",
            "      shrimp}                => {mineral water} 0.001200000  1.0000000 0.001200000  4.196978     9\n",
            "[5]  {mushroom cream sauce,                                                                       \n",
            "      pasta}                 => {escalope}      0.002533333  0.9500000 0.002666667 11.974790    19\n",
            "[6]  {red wine,                                                                                   \n",
            "      soup}                  => {mineral water} 0.001866667  0.9333333 0.002000000  3.917180    14\n",
            "[7]  {eggs,                                                                                       \n",
            "      mineral water,                                                                              \n",
            "      pasta}                 => {shrimp}        0.001333333  0.9090909 0.001466667 12.744265    10\n",
            "[8]  {herb & pepper,                                                                              \n",
            "      mineral water,                                                                              \n",
            "      rice}                  => {ground beef}   0.001333333  0.9090909 0.001466667  9.251264    10\n",
            "[9]  {ground beef,                                                                                \n",
            "      pancakes,                                                                                   \n",
            "      whole wheat rice}      => {mineral water} 0.001333333  0.9090909 0.001466667  3.815435    10\n",
            "[10] {frozen vegetables,                                                                          \n",
            "      milk,                                                                                       \n",
            "      spaghetti,                                                                                  \n",
            "      turkey}                => {mineral water} 0.001200000  0.9000000 0.001333333  3.777280     9\n"
          ]
        }
      ]
    },
    {
      "cell_type": "code",
      "source": [
        "%%R\n",
        "# Creating a short association rule\n",
        "short_rules <- apriori(sales, parameter = list(supp = 0.001, conf = 0.8, maxlen=4))"
      ],
      "metadata": {
        "colab": {
          "base_uri": "https://localhost:8080/"
        },
        "id": "c3aHvkguG7Cd",
        "outputId": "5e66f8bc-1ca0-4983-b5f2-2195153fa835"
      },
      "execution_count": 48,
      "outputs": [
        {
          "output_type": "stream",
          "name": "stdout",
          "text": [
            "Apriori\n",
            "\n",
            "Parameter specification:\n",
            " confidence minval smax arem  aval originalSupport maxtime support minlen\n",
            "        0.8    0.1    1 none FALSE            TRUE       5   0.001      1\n",
            " maxlen target  ext\n",
            "      4  rules TRUE\n",
            "\n",
            "Algorithmic control:\n",
            " filter tree heap memopt load sort verbose\n",
            "    0.1 TRUE TRUE  FALSE TRUE    2    TRUE\n",
            "\n",
            "Absolute minimum support count: 7 \n",
            "\n",
            "set item appearances ...[0 item(s)] done [0.00s].\n",
            "set transactions ...[119 item(s), 7500 transaction(s)] done [0.01s].\n",
            "sorting and recoding items ... [116 item(s)] done [0.00s].\n",
            "creating transaction tree ... done [0.00s].\n",
            "checking subsets of size 1 2 3 4 done [0.01s].\n",
            "writing ... [56 rule(s)] done [0.00s].\n",
            "creating S4 object  ... done [0.00s].\n"
          ]
        }
      ]
    },
    {
      "cell_type": "code",
      "source": [
        "%%R\n",
        "# Sort rules based on confidence\n",
        "inspect(sort(short_rules, by='confidence', decreasing = T)[1:20])"
      ],
      "metadata": {
        "colab": {
          "base_uri": "https://localhost:8080/"
        },
        "id": "CWwXA9ZkHTWW",
        "outputId": "85d29676-d964-4496-ac38-c14b8853f6c4"
      },
      "execution_count": 49,
      "outputs": [
        {
          "output_type": "stream",
          "name": "stdout",
          "text": [
            "     lhs                        rhs                 support confidence    coverage      lift count\n",
            "[1]  {french fries,                                                                               \n",
            "      mushroom cream sauce,                                                                       \n",
            "      pasta}                 => {escalope}      0.001066667  1.0000000 0.001066667 12.605042     8\n",
            "[2]  {ground beef,                                                                                \n",
            "      light cream,                                                                                \n",
            "      olive oil}             => {mineral water} 0.001200000  1.0000000 0.001200000  4.196978     9\n",
            "[3]  {cake,                                                                                       \n",
            "      meatballs,                                                                                  \n",
            "      mineral water}         => {milk}          0.001066667  1.0000000 0.001066667  7.716049     8\n",
            "[4]  {cake,                                                                                       \n",
            "      olive oil,                                                                                  \n",
            "      shrimp}                => {mineral water} 0.001200000  1.0000000 0.001200000  4.196978     9\n",
            "[5]  {mushroom cream sauce,                                                                       \n",
            "      pasta}                 => {escalope}      0.002533333  0.9500000 0.002666667 11.974790    19\n",
            "[6]  {red wine,                                                                                   \n",
            "      soup}                  => {mineral water} 0.001866667  0.9333333 0.002000000  3.917180    14\n",
            "[7]  {eggs,                                                                                       \n",
            "      mineral water,                                                                              \n",
            "      pasta}                 => {shrimp}        0.001333333  0.9090909 0.001466667 12.744265    10\n",
            "[8]  {herb & pepper,                                                                              \n",
            "      mineral water,                                                                              \n",
            "      rice}                  => {ground beef}   0.001333333  0.9090909 0.001466667  9.251264    10\n",
            "[9]  {ground beef,                                                                                \n",
            "      pancakes,                                                                                   \n",
            "      whole wheat rice}      => {mineral water} 0.001333333  0.9090909 0.001466667  3.815435    10\n",
            "[10] {black tea,                                                                                  \n",
            "      spaghetti,                                                                                  \n",
            "      turkey}                => {eggs}          0.001066667  0.8888889 0.001200000  4.945598     8\n",
            "[11] {light cream,                                                                                \n",
            "      mineral water,                                                                              \n",
            "      shrimp}                => {spaghetti}     0.001066667  0.8888889 0.001200000  5.104645     8\n",
            "[12] {cake,                                                                                       \n",
            "      meatballs,                                                                                  \n",
            "      milk}                  => {mineral water} 0.001066667  0.8888889 0.001200000  3.730647     8\n",
            "[13] {grated cheese,                                                                              \n",
            "      mineral water,                                                                              \n",
            "      rice}                  => {ground beef}   0.001066667  0.8888889 0.001200000  9.045681     8\n",
            "[14] {cake,                                                                                       \n",
            "      olive oil,                                                                                  \n",
            "      whole wheat pasta}     => {mineral water} 0.001066667  0.8888889 0.001200000  3.730647     8\n",
            "[15] {escalope,                                                                                   \n",
            "      hot dogs,                                                                                   \n",
            "      mineral water}         => {milk}          0.001066667  0.8888889 0.001200000  6.858711     8\n",
            "[16] {brownies,                                                                                   \n",
            "      eggs,                                                                                       \n",
            "      ground beef}           => {mineral water} 0.001066667  0.8888889 0.001200000  3.730647     8\n",
            "[17] {chicken,                                                                                    \n",
            "      fresh bread,                                                                                \n",
            "      pancakes}              => {mineral water} 0.001066667  0.8888889 0.001200000  3.730647     8\n",
            "[18] {ground beef,                                                                                \n",
            "      salmon,                                                                                     \n",
            "      shrimp}                => {spaghetti}     0.001066667  0.8888889 0.001200000  5.104645     8\n",
            "[19] {burgers,                                                                                    \n",
            "      milk,                                                                                       \n",
            "      salmon}                => {spaghetti}     0.001066667  0.8888889 0.001200000  5.104645     8\n",
            "[20] {chocolate,                                                                                  \n",
            "      soup,                                                                                       \n",
            "      turkey}                => {mineral water} 0.001066667  0.8888889 0.001200000  3.730647     8\n"
          ]
        }
      ]
    },
    {
      "cell_type": "code",
      "source": [
        "%%R\n",
        "# Get association rules associated to spaghetti\n",
        "spaghetti_ruleset <- apriori(sales, parameter = list(supp=0.001, conf=0.8), appearance = list(default=\"lhs\", rhs=\"spaghetti\"))"
      ],
      "metadata": {
        "colab": {
          "base_uri": "https://localhost:8080/"
        },
        "id": "Ro2i0F01HbOI",
        "outputId": "a5460cf0-c533-4b46-b69d-6038a1ad699a"
      },
      "execution_count": 50,
      "outputs": [
        {
          "output_type": "stream",
          "name": "stdout",
          "text": [
            "Apriori\n",
            "\n",
            "Parameter specification:\n",
            " confidence minval smax arem  aval originalSupport maxtime support minlen\n",
            "        0.8    0.1    1 none FALSE            TRUE       5   0.001      1\n",
            " maxlen target  ext\n",
            "     10  rules TRUE\n",
            "\n",
            "Algorithmic control:\n",
            " filter tree heap memopt load sort verbose\n",
            "    0.1 TRUE TRUE  FALSE TRUE    2    TRUE\n",
            "\n",
            "Absolute minimum support count: 7 \n",
            "\n",
            "set item appearances ...[1 item(s)] done [0.00s].\n",
            "set transactions ...[119 item(s), 7500 transaction(s)] done [0.01s].\n",
            "sorting and recoding items ... [116 item(s)] done [0.00s].\n",
            "creating transaction tree ... done [0.00s].\n",
            "checking subsets of size 1 2 3 4 5 6 done [0.02s].\n",
            "writing ... [16 rule(s)] done [0.00s].\n",
            "creating S4 object  ... done [0.00s].\n"
          ]
        }
      ]
    },
    {
      "cell_type": "code",
      "source": [
        "%%R\n",
        "# Sort rule\n",
        "\n",
        "inspect(spaghetti_ruleset)\n",
        "\n",
        "#Items most bought before spaghetti are shrimp and salmon."
      ],
      "metadata": {
        "colab": {
          "base_uri": "https://localhost:8080/"
        },
        "id": "eC6hSvmFHgUI",
        "outputId": "00c2e607-3054-40b0-902b-12f3e8363d27"
      },
      "execution_count": 51,
      "outputs": [
        {
          "output_type": "stream",
          "name": "stdout",
          "text": [
            "     lhs                     rhs             support confidence    coverage     lift count\n",
            "[1]  {bacon,                                                                              \n",
            "      pancakes}           => {spaghetti} 0.001733333  0.8125000 0.002133333 4.665965    13\n",
            "[2]  {chicken,                                                                            \n",
            "      protein bar}        => {spaghetti} 0.001200000  0.8181818 0.001466667 4.698594     9\n",
            "[3]  {green tea,                                                                          \n",
            "      ground beef,                                                                        \n",
            "      tomato sauce}       => {spaghetti} 0.001333333  0.8333333 0.001600000 4.785605    10\n",
            "[4]  {light cream,                                                                        \n",
            "      mineral water,                                                                      \n",
            "      shrimp}             => {spaghetti} 0.001066667  0.8888889 0.001200000 5.104645     8\n",
            "[5]  {milk,                                                                               \n",
            "      mineral water,                                                                      \n",
            "      parmesan cheese}    => {spaghetti} 0.001066667  0.8000000 0.001333333 4.594181     8\n",
            "[6]  {cooking oil,                                                                        \n",
            "      mineral water,                                                                      \n",
            "      red wine}           => {spaghetti} 0.001066667  0.8000000 0.001333333 4.594181     8\n",
            "[7]  {avocado,                                                                            \n",
            "      burgers,                                                                            \n",
            "      milk}               => {spaghetti} 0.001066667  0.8000000 0.001333333 4.594181     8\n",
            "[8]  {ground beef,                                                                        \n",
            "      salmon,                                                                             \n",
            "      shrimp}             => {spaghetti} 0.001066667  0.8888889 0.001200000 5.104645     8\n",
            "[9]  {burgers,                                                                            \n",
            "      milk,                                                                               \n",
            "      salmon}             => {spaghetti} 0.001066667  0.8888889 0.001200000 5.104645     8\n",
            "[10] {frozen vegetables,                                                                  \n",
            "      tomatoes,                                                                           \n",
            "      whole wheat rice}   => {spaghetti} 0.001333333  0.8333333 0.001600000 4.785605    10\n",
            "[11] {frozen vegetables,                                                                  \n",
            "      olive oil,                                                                          \n",
            "      tomatoes}           => {spaghetti} 0.002133333  0.8421053 0.002533333 4.835980    16\n",
            "[12] {burgers,                                                                            \n",
            "      frozen vegetables,                                                                  \n",
            "      pancakes}           => {spaghetti} 0.001466667  0.8461538 0.001733333 4.859230    11\n",
            "[13] {frozen vegetables,                                                                  \n",
            "      mineral water,                                                                      \n",
            "      olive oil,                                                                          \n",
            "      tomatoes}           => {spaghetti} 0.001066667  0.8000000 0.001333333 4.594181     8\n",
            "[14] {frozen vegetables,                                                                  \n",
            "      ground beef,                                                                        \n",
            "      mineral water,                                                                      \n",
            "      tomatoes}           => {spaghetti} 0.001200000  0.8181818 0.001466667 4.698594     9\n",
            "[15] {chocolate,                                                                          \n",
            "      french fries,                                                                       \n",
            "      mineral water,                                                                      \n",
            "      olive oil}          => {spaghetti} 0.001066667  0.8000000 0.001333333 4.594181     8\n",
            "[16] {frozen vegetables,                                                                  \n",
            "      ground beef,                                                                        \n",
            "      mineral water,                                                                      \n",
            "      shrimp}             => {spaghetti} 0.001733333  0.8666667 0.002000000 4.977029    13\n"
          ]
        }
      ]
    },
    {
      "cell_type": "code",
      "source": [
        "%%R\n",
        "# Get association rules associated to shrimp\n",
        "shrimp_ruleset <- apriori(sales, parameter = list(supp=0.001, conf=0.8), appearance = list(default=\"lhs\", rhs=\"shrimp\"))"
      ],
      "metadata": {
        "colab": {
          "base_uri": "https://localhost:8080/"
        },
        "id": "5cr9az9mHj33",
        "outputId": "3a3c348e-0cba-40e6-b7a1-886c26202626"
      },
      "execution_count": 40,
      "outputs": [
        {
          "output_type": "stream",
          "name": "stdout",
          "text": [
            "Apriori\n",
            "\n",
            "Parameter specification:\n",
            " confidence minval smax arem  aval originalSupport maxtime support minlen\n",
            "        0.8    0.1    1 none FALSE            TRUE       5   0.001      1\n",
            " maxlen target  ext\n",
            "     10  rules TRUE\n",
            "\n",
            "Algorithmic control:\n",
            " filter tree heap memopt load sort verbose\n",
            "    0.1 TRUE TRUE  FALSE TRUE    2    TRUE\n",
            "\n",
            "Absolute minimum support count: 7 \n",
            "\n",
            "set item appearances ...[1 item(s)] done [0.00s].\n",
            "set transactions ...[119 item(s), 7500 transaction(s)] done [0.01s].\n",
            "sorting and recoding items ... [116 item(s)] done [0.00s].\n",
            "creating transaction tree ... done [0.00s].\n",
            "checking subsets of size 1 2 3 4 5 6 done [0.02s].\n",
            "writing ... [2 rule(s)] done [0.00s].\n",
            "creating S4 object  ... done [0.00s].\n"
          ]
        }
      ]
    },
    {
      "cell_type": "code",
      "source": [
        "%%R\n",
        "# Sort rule\n",
        "\n",
        "inspect(shrimp_ruleset)\n",
        "#Customers purchase pasta before purchasing shrimp\n"
      ],
      "metadata": {
        "colab": {
          "base_uri": "https://localhost:8080/"
        },
        "id": "NTDODbhCHoR3",
        "outputId": "4d3b6969-4770-4dbd-cdf1-d831c8bcf680"
      },
      "execution_count": 41,
      "outputs": [
        {
          "output_type": "stream",
          "name": "stdout",
          "text": [
            "    lhs                             rhs      support     confidence coverage   \n",
            "[1] {milk, pasta}                => {shrimp} 0.001600000 0.8571429  0.001866667\n",
            "[2] {eggs, mineral water, pasta} => {shrimp} 0.001333333 0.9090909  0.001466667\n",
            "    lift     count\n",
            "[1] 12.01602 12   \n",
            "[2] 12.74427 10   \n"
          ]
        }
      ]
    },
    {
      "cell_type": "markdown",
      "source": [
        "**Summary of findings**\n",
        "\n",
        "*   Package mushroom sauce with spaghetti.\n",
        "*   Stock pasta with mushroom cream sauce in the same section or next to each other could increase sales.\n",
        "*   Arrange pasta and meat together, they are bought one after the other \n",
        "\n",
        "\n",
        "\n",
        "\n",
        "\n",
        "\n"
      ],
      "metadata": {
        "id": "Aq3TeoI9Hr40"
      }
    }
  ]
}